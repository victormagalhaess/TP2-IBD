{
 "cells": [
  {
   "cell_type": "markdown",
   "metadata": {},
   "source": [
    "<div style=\"border-width: medium; border-style: solid;border-color: black; padding: 10px;\"> \n",
    "<img src=\"https://logodownload.org/wp-content/uploads/2015/05/uber-logo-1-1.png\" style=\"float: right;\" width=100px><br>\n",
    "<h2 style=\"line-height: 0.7; \">TP2 de IBD</h2> \n",
    "<p style=\"line-height: 0.7;\"> Professora: Mirella M. Moro</p>\n",
    "<p style=\"line-height: 0.7;\"> Alunos: Gabriel Henrique Santos Dias & Victor Hugo Faria Dias Magalhães</p>\n",
    "<img src=\"https://upload.wikimedia.org/wikipedia/commons/c/c3/Logo_UFMG.png\" style=\"float: right;\" width=100px></h4>\n",
    "<br>\n",
    "<p>Notebook feito utilizando Python 3.7 no Ubuntu 18.04 LTS. </p>\n",
    "</div>"
   ]
  },
  {
   "cell_type": "code",
   "execution_count": 47,
   "metadata": {},
   "outputs": [],
   "source": [
    "import io\n",
    "import sqlite3\n",
    "import pandas as pd\n",
    "import matplotlib.pyplot as plt\n",
    "import ipywidgets as widgets\n",
    "from IPython.display import clear_output"
   ]
  },
  {
   "cell_type": "code",
   "execution_count": 10,
   "metadata": {},
   "outputs": [],
   "source": [
    "conn = sqlite3.connect('./tp2')\n",
    "cursor = conn.cursor()"
   ]
  },
  {
   "cell_type": "code",
   "execution_count": 51,
   "metadata": {},
   "outputs": [
    {
     "name": "stdout",
     "output_type": "stream",
     "text": [
      "ESCREVA A CONSULTA INTERATIVA\n"
     ]
    },
    {
     "data": {
      "application/vnd.jupyter.widget-view+json": {
       "model_id": "846bed8b0e124fcb98750dccf56f820f",
       "version_major": 2,
       "version_minor": 0
      },
      "text/plain": [
       "Text(value='', description='Digite sua consulta:', placeholder='Consulta')"
      ]
     },
     "metadata": {},
     "output_type": "display_data"
    },
    {
     "data": {
      "application/vnd.jupyter.widget-view+json": {
       "model_id": "bdedd4cce0ba4c3b8cdc09995e4683c2",
       "version_major": 2,
       "version_minor": 0
      },
      "text/plain": [
       "Button(description='Click Me!', style=ButtonStyle())"
      ]
     },
     "metadata": {},
     "output_type": "display_data"
    },
    {
     "data": {
      "application/vnd.jupyter.widget-view+json": {
       "model_id": "4d930c57c4b846f6abd74a2827f66711",
       "version_major": 2,
       "version_minor": 0
      },
      "text/plain": [
       "Output()"
      ]
     },
     "metadata": {},
     "output_type": "display_data"
    }
   ],
   "source": [
    "print(\"ESCREVA A CONSULTA INTERATIVA\")\n",
    "\n",
    "outp = widgets.Output()\n",
    "button = widgets.Button(description=\"Click Me!\")\n",
    "text = widgets.Text(\n",
    "    value='',\n",
    "    placeholder='Consulta',\n",
    "    description='Digite sua consulta:',\n",
    "    disabled=False\n",
    ")\n",
    "\n",
    "def callback(wdgt):\n",
    "    global consulta\n",
    "    consulta = wdgt.value\n",
    "\n",
    "def on_button_clicked(b):\n",
    "    df = pd.read_sql_query(consulta, conn)\n",
    "    with outp:\n",
    "        clear_output()\n",
    "        display(df)\n",
    "\n",
    "\n",
    "button.on_click(on_button_clicked)\n",
    "text.on_submit(callback)\n",
    "\n",
    "display(text, button, outp)"
   ]
  },
  {
   "cell_type": "code",
   "execution_count": 3,
   "metadata": {
    "scrolled": false
   },
   "outputs": [
    {
     "name": "stdout",
     "output_type": "stream",
     "text": [
      "Consulta básica 1: Projeção: Todos os nomes de zonas da cidade de São Paulo\n"
     ]
    },
    {
     "data": {
      "text/html": [
       "<div>\n",
       "<style scoped>\n",
       "    .dataframe tbody tr th:only-of-type {\n",
       "        vertical-align: middle;\n",
       "    }\n",
       "\n",
       "    .dataframe tbody tr th {\n",
       "        vertical-align: top;\n",
       "    }\n",
       "\n",
       "    .dataframe thead th {\n",
       "        text-align: right;\n",
       "    }\n",
       "</style>\n",
       "<table border=\"1\" class=\"dataframe\">\n",
       "  <thead>\n",
       "    <tr style=\"text-align: right;\">\n",
       "      <th></th>\n",
       "      <th>Nomes_São_Paulo</th>\n",
       "    </tr>\n",
       "  </thead>\n",
       "  <tbody>\n",
       "    <tr>\n",
       "      <td>0</td>\n",
       "      <td>Sé</td>\n",
       "    </tr>\n",
       "    <tr>\n",
       "      <td>1</td>\n",
       "      <td>Parque Dom Pedro</td>\n",
       "    </tr>\n",
       "    <tr>\n",
       "      <td>2</td>\n",
       "      <td>Praça João Mendes</td>\n",
       "    </tr>\n",
       "    <tr>\n",
       "      <td>3</td>\n",
       "      <td>Ladeira da Memória</td>\n",
       "    </tr>\n",
       "    <tr>\n",
       "      <td>4</td>\n",
       "      <td>República</td>\n",
       "    </tr>\n",
       "    <tr>\n",
       "      <td>...</td>\n",
       "      <td>...</td>\n",
       "    </tr>\n",
       "    <tr>\n",
       "      <td>512</td>\n",
       "      <td>Quatro Encruzilhadas</td>\n",
       "    </tr>\n",
       "    <tr>\n",
       "      <td>513</td>\n",
       "      <td>Itapevi</td>\n",
       "    </tr>\n",
       "    <tr>\n",
       "      <td>514</td>\n",
       "      <td>Amador Bueno</td>\n",
       "    </tr>\n",
       "    <tr>\n",
       "      <td>515</td>\n",
       "      <td>Santana de Parnaíba</td>\n",
       "    </tr>\n",
       "    <tr>\n",
       "      <td>516</td>\n",
       "      <td>Pirapora do Bom Jesus</td>\n",
       "    </tr>\n",
       "  </tbody>\n",
       "</table>\n",
       "<p>517 rows × 1 columns</p>\n",
       "</div>"
      ],
      "text/plain": [
       "           Nomes_São_Paulo\n",
       "0                       Sé\n",
       "1         Parque Dom Pedro\n",
       "2        Praça João Mendes\n",
       "3       Ladeira da Memória\n",
       "4                República\n",
       "..                     ...\n",
       "512   Quatro Encruzilhadas\n",
       "513                Itapevi\n",
       "514           Amador Bueno\n",
       "515    Santana de Parnaíba\n",
       "516  Pirapora do Bom Jesus\n",
       "\n",
       "[517 rows x 1 columns]"
      ]
     },
     "execution_count": 3,
     "metadata": {},
     "output_type": "execute_result"
    }
   ],
   "source": [
    "print(\"Consulta básica 1: Projeção: Todos os nomes de zonas da cidade de São Paulo\")\n",
    "df = pd.read_sql_query(\n",
    "\"select zone_name as Nomes_São_Paulo \"+\n",
    "\"from sao_paulo_names\",conn)\n",
    "df"
   ]
  },
  {
   "cell_type": "code",
   "execution_count": 4,
   "metadata": {},
   "outputs": [
    {
     "name": "stdout",
     "output_type": "stream",
     "text": [
      "Consulta básica 2: Projeção e Seleção: Viagens cuja origem é o bairro da Sé em SP\n"
     ]
    },
    {
     "data": {
      "text/html": [
       "<div>\n",
       "<style scoped>\n",
       "    .dataframe tbody tr th:only-of-type {\n",
       "        vertical-align: middle;\n",
       "    }\n",
       "\n",
       "    .dataframe tbody tr th {\n",
       "        vertical-align: top;\n",
       "    }\n",
       "\n",
       "    .dataframe thead th {\n",
       "        text-align: right;\n",
       "    }\n",
       "</style>\n",
       "<table border=\"1\" class=\"dataframe\">\n",
       "  <thead>\n",
       "    <tr style=\"text-align: right;\">\n",
       "      <th></th>\n",
       "      <th>Horário</th>\n",
       "      <th>Nome_zona</th>\n",
       "    </tr>\n",
       "  </thead>\n",
       "  <tbody>\n",
       "    <tr>\n",
       "      <td>0</td>\n",
       "      <td>0</td>\n",
       "      <td>Sé</td>\n",
       "    </tr>\n",
       "    <tr>\n",
       "      <td>1</td>\n",
       "      <td>0</td>\n",
       "      <td>Sé</td>\n",
       "    </tr>\n",
       "    <tr>\n",
       "      <td>2</td>\n",
       "      <td>0</td>\n",
       "      <td>Sé</td>\n",
       "    </tr>\n",
       "    <tr>\n",
       "      <td>3</td>\n",
       "      <td>0</td>\n",
       "      <td>Sé</td>\n",
       "    </tr>\n",
       "    <tr>\n",
       "      <td>4</td>\n",
       "      <td>0</td>\n",
       "      <td>Sé</td>\n",
       "    </tr>\n",
       "    <tr>\n",
       "      <td>...</td>\n",
       "      <td>...</td>\n",
       "      <td>...</td>\n",
       "    </tr>\n",
       "    <tr>\n",
       "      <td>10649</td>\n",
       "      <td>23</td>\n",
       "      <td>Sé</td>\n",
       "    </tr>\n",
       "    <tr>\n",
       "      <td>10650</td>\n",
       "      <td>23</td>\n",
       "      <td>Sé</td>\n",
       "    </tr>\n",
       "    <tr>\n",
       "      <td>10651</td>\n",
       "      <td>23</td>\n",
       "      <td>Sé</td>\n",
       "    </tr>\n",
       "    <tr>\n",
       "      <td>10652</td>\n",
       "      <td>23</td>\n",
       "      <td>Sé</td>\n",
       "    </tr>\n",
       "    <tr>\n",
       "      <td>10653</td>\n",
       "      <td>23</td>\n",
       "      <td>Sé</td>\n",
       "    </tr>\n",
       "  </tbody>\n",
       "</table>\n",
       "<p>10654 rows × 2 columns</p>\n",
       "</div>"
      ],
      "text/plain": [
       "       Horário Nome_zona\n",
       "0            0        Sé\n",
       "1            0        Sé\n",
       "2            0        Sé\n",
       "3            0        Sé\n",
       "4            0        Sé\n",
       "...        ...       ...\n",
       "10649       23        Sé\n",
       "10650       23        Sé\n",
       "10651       23        Sé\n",
       "10652       23        Sé\n",
       "10653       23        Sé\n",
       "\n",
       "[10654 rows x 2 columns]"
      ]
     },
     "execution_count": 4,
     "metadata": {},
     "output_type": "execute_result"
    }
   ],
   "source": [
    "print(\"Consulta básica 2: Projeção e Seleção: Viagens cuja origem é o bairro da Sé em SP\")\n",
    "df = pd.read_sql_query(\n",
    "\"select H.hod as Horário, S.zone_name as Nome_zona \"+\n",
    "\"from sao_paulo_hourly as H join sao_paulo_names as S on H.sourceid = S.zone_id \"+\n",
    "\"where Nome_zona = \\\"Sé\\\"\",conn)\n",
    "df"
   ]
  },
  {
   "cell_type": "code",
   "execution_count": 5,
   "metadata": {},
   "outputs": [
    {
     "name": "stdout",
     "output_type": "stream",
     "text": [
      "Consulta básica 3: Junção de duas relações: 20 viagens mais demoradas de Manchester\n",
      "Tempo Médio em Minutos!\n"
     ]
    },
    {
     "data": {
      "text/html": [
       "<div>\n",
       "<style scoped>\n",
       "    .dataframe tbody tr th:only-of-type {\n",
       "        vertical-align: middle;\n",
       "    }\n",
       "\n",
       "    .dataframe tbody tr th {\n",
       "        vertical-align: top;\n",
       "    }\n",
       "\n",
       "    .dataframe thead th {\n",
       "        text-align: right;\n",
       "    }\n",
       "</style>\n",
       "<table border=\"1\" class=\"dataframe\">\n",
       "  <thead>\n",
       "    <tr style=\"text-align: right;\">\n",
       "      <th></th>\n",
       "      <th>Horário</th>\n",
       "      <th>Zona_Origem</th>\n",
       "      <th>Zona_Destino</th>\n",
       "      <th>Tempo_Medio</th>\n",
       "    </tr>\n",
       "  </thead>\n",
       "  <tbody>\n",
       "    <tr>\n",
       "      <td>0</td>\n",
       "      <td>18</td>\n",
       "      <td>Manchester 030</td>\n",
       "      <td>Trafford 019</td>\n",
       "      <td>77.725000</td>\n",
       "    </tr>\n",
       "    <tr>\n",
       "      <td>1</td>\n",
       "      <td>16</td>\n",
       "      <td>Manchester 053</td>\n",
       "      <td>Bury 026</td>\n",
       "      <td>69.316667</td>\n",
       "    </tr>\n",
       "    <tr>\n",
       "      <td>2</td>\n",
       "      <td>20</td>\n",
       "      <td>Manchester 025</td>\n",
       "      <td>Salford 003</td>\n",
       "      <td>66.714833</td>\n",
       "    </tr>\n",
       "    <tr>\n",
       "      <td>3</td>\n",
       "      <td>19</td>\n",
       "      <td>Manchester 028</td>\n",
       "      <td>Salford 006</td>\n",
       "      <td>65.723833</td>\n",
       "    </tr>\n",
       "    <tr>\n",
       "      <td>4</td>\n",
       "      <td>14</td>\n",
       "      <td>Stockport 024</td>\n",
       "      <td>Manchester 060</td>\n",
       "      <td>65.308333</td>\n",
       "    </tr>\n",
       "    <tr>\n",
       "      <td>5</td>\n",
       "      <td>21</td>\n",
       "      <td>Manchester 026</td>\n",
       "      <td>Oldham 014</td>\n",
       "      <td>64.683333</td>\n",
       "    </tr>\n",
       "    <tr>\n",
       "      <td>6</td>\n",
       "      <td>20</td>\n",
       "      <td>Manchester 020</td>\n",
       "      <td>Salford 014</td>\n",
       "      <td>63.583333</td>\n",
       "    </tr>\n",
       "    <tr>\n",
       "      <td>7</td>\n",
       "      <td>16</td>\n",
       "      <td>Manchester 053</td>\n",
       "      <td>Rochdale 013</td>\n",
       "      <td>61.931500</td>\n",
       "    </tr>\n",
       "    <tr>\n",
       "      <td>8</td>\n",
       "      <td>20</td>\n",
       "      <td>Manchester 025</td>\n",
       "      <td>Bolton 034</td>\n",
       "      <td>59.640500</td>\n",
       "    </tr>\n",
       "    <tr>\n",
       "      <td>9</td>\n",
       "      <td>16</td>\n",
       "      <td>Manchester 053</td>\n",
       "      <td>Salford 010</td>\n",
       "      <td>58.940667</td>\n",
       "    </tr>\n",
       "    <tr>\n",
       "      <td>10</td>\n",
       "      <td>16</td>\n",
       "      <td>Manchester 053</td>\n",
       "      <td>Bury 007</td>\n",
       "      <td>58.794500</td>\n",
       "    </tr>\n",
       "    <tr>\n",
       "      <td>11</td>\n",
       "      <td>16</td>\n",
       "      <td>Manchester 053</td>\n",
       "      <td>Rochdale 016</td>\n",
       "      <td>58.748833</td>\n",
       "    </tr>\n",
       "    <tr>\n",
       "      <td>12</td>\n",
       "      <td>16</td>\n",
       "      <td>Manchester 053</td>\n",
       "      <td>Bury 004</td>\n",
       "      <td>58.379667</td>\n",
       "    </tr>\n",
       "    <tr>\n",
       "      <td>13</td>\n",
       "      <td>16</td>\n",
       "      <td>Manchester 053</td>\n",
       "      <td>Bury 013</td>\n",
       "      <td>58.214667</td>\n",
       "    </tr>\n",
       "    <tr>\n",
       "      <td>14</td>\n",
       "      <td>16</td>\n",
       "      <td>Manchester 053</td>\n",
       "      <td>Rochdale 021</td>\n",
       "      <td>58.102333</td>\n",
       "    </tr>\n",
       "    <tr>\n",
       "      <td>15</td>\n",
       "      <td>16</td>\n",
       "      <td>Manchester 053</td>\n",
       "      <td>Rossendale 008</td>\n",
       "      <td>58.005000</td>\n",
       "    </tr>\n",
       "    <tr>\n",
       "      <td>16</td>\n",
       "      <td>16</td>\n",
       "      <td>Manchester 053</td>\n",
       "      <td>Rochdale 019</td>\n",
       "      <td>57.746667</td>\n",
       "    </tr>\n",
       "    <tr>\n",
       "      <td>17</td>\n",
       "      <td>16</td>\n",
       "      <td>Manchester 046</td>\n",
       "      <td>Salford 010</td>\n",
       "      <td>57.540500</td>\n",
       "    </tr>\n",
       "    <tr>\n",
       "      <td>18</td>\n",
       "      <td>14</td>\n",
       "      <td>Stockport 024</td>\n",
       "      <td>Manchester 057</td>\n",
       "      <td>57.204833</td>\n",
       "    </tr>\n",
       "    <tr>\n",
       "      <td>19</td>\n",
       "      <td>21</td>\n",
       "      <td>Manchester 041</td>\n",
       "      <td>Trafford 008</td>\n",
       "      <td>56.916667</td>\n",
       "    </tr>\n",
       "  </tbody>\n",
       "</table>\n",
       "</div>"
      ],
      "text/plain": [
       "    Horário     Zona_Origem    Zona_Destino  Tempo_Medio\n",
       "0        18  Manchester 030    Trafford 019    77.725000\n",
       "1        16  Manchester 053        Bury 026    69.316667\n",
       "2        20  Manchester 025     Salford 003    66.714833\n",
       "3        19  Manchester 028     Salford 006    65.723833\n",
       "4        14   Stockport 024  Manchester 060    65.308333\n",
       "5        21  Manchester 026      Oldham 014    64.683333\n",
       "6        20  Manchester 020     Salford 014    63.583333\n",
       "7        16  Manchester 053    Rochdale 013    61.931500\n",
       "8        20  Manchester 025      Bolton 034    59.640500\n",
       "9        16  Manchester 053     Salford 010    58.940667\n",
       "10       16  Manchester 053        Bury 007    58.794500\n",
       "11       16  Manchester 053    Rochdale 016    58.748833\n",
       "12       16  Manchester 053        Bury 004    58.379667\n",
       "13       16  Manchester 053        Bury 013    58.214667\n",
       "14       16  Manchester 053    Rochdale 021    58.102333\n",
       "15       16  Manchester 053  Rossendale 008    58.005000\n",
       "16       16  Manchester 053    Rochdale 019    57.746667\n",
       "17       16  Manchester 046     Salford 010    57.540500\n",
       "18       14   Stockport 024  Manchester 057    57.204833\n",
       "19       21  Manchester 041    Trafford 008    56.916667"
      ]
     },
     "execution_count": 5,
     "metadata": {},
     "output_type": "execute_result"
    }
   ],
   "source": [
    "print(\"Consulta básica 3: Junção de duas relações: 20 viagens mais demoradas de Manchester\")\n",
    "print(\"Tempo Médio em Minutos!\")\n",
    "df = pd.read_sql_query(\n",
    "\"select W.hod as Horário, N.zone_name as Zona_Origem, M.zone_name as Zona_Destino, mean_travel_time/60 as Tempo_Medio \"+\n",
    "\"from manchester_hourly as W \"+\n",
    "\"LEFT JOIN manchester_names as N ON W.sourceid = N.zone_id \"+\n",
    "\"LEFT JOIN manchester_names as M ON W.dstid = M.zone_id \"+\n",
    "\"order by Tempo_Medio desc limit 20\",conn)\n",
    "df"
   ]
  },
  {
   "cell_type": "code",
   "execution_count": 6,
   "metadata": {},
   "outputs": [
    {
     "name": "stdout",
     "output_type": "stream",
     "text": [
      "Consulta básica 4: Junção de duas relações: 20 viagens mais rápidas de Joanesburgo\n",
      "Tempo Médio em Minutos!\n"
     ]
    },
    {
     "data": {
      "text/html": [
       "<div>\n",
       "<style scoped>\n",
       "    .dataframe tbody tr th:only-of-type {\n",
       "        vertical-align: middle;\n",
       "    }\n",
       "\n",
       "    .dataframe tbody tr th {\n",
       "        vertical-align: top;\n",
       "    }\n",
       "\n",
       "    .dataframe thead th {\n",
       "        text-align: right;\n",
       "    }\n",
       "</style>\n",
       "<table border=\"1\" class=\"dataframe\">\n",
       "  <thead>\n",
       "    <tr style=\"text-align: right;\">\n",
       "      <th></th>\n",
       "      <th>Horário</th>\n",
       "      <th>Zona_Origem</th>\n",
       "      <th>Zona_Destino</th>\n",
       "      <th>Tempo_Medio</th>\n",
       "    </tr>\n",
       "  </thead>\n",
       "  <tbody>\n",
       "    <tr>\n",
       "      <td>0</td>\n",
       "      <td>19</td>\n",
       "      <td>0 Montgomery Street\\, Vereeniging</td>\n",
       "      <td>Lager Street\\, Leeuwkuil\\, Vereeniging</td>\n",
       "      <td>0.219000</td>\n",
       "    </tr>\n",
       "    <tr>\n",
       "      <td>1</td>\n",
       "      <td>14</td>\n",
       "      <td>0 Maunde Street\\, Elandsfontein 352-Jr\\, Pretoria</td>\n",
       "      <td>Avenue\\, Elandsfontein 352-Jr</td>\n",
       "      <td>0.297667</td>\n",
       "    </tr>\n",
       "    <tr>\n",
       "      <td>2</td>\n",
       "      <td>16</td>\n",
       "      <td>0 Montgomery Street\\, Vereeniging</td>\n",
       "      <td>Lager Street\\, Leeuwkuil\\, Vereeniging</td>\n",
       "      <td>0.316667</td>\n",
       "    </tr>\n",
       "    <tr>\n",
       "      <td>3</td>\n",
       "      <td>7</td>\n",
       "      <td>Unnamed Road\\, Eikenhof</td>\n",
       "      <td>Vereeniging Road\\, Vereeniging NU\\, Alberton</td>\n",
       "      <td>0.321167</td>\n",
       "    </tr>\n",
       "    <tr>\n",
       "      <td>4</td>\n",
       "      <td>22</td>\n",
       "      <td>Unnamed Road\\, Eikenhof</td>\n",
       "      <td>Vereeniging Road\\, Vereeniging NU\\, Alberton</td>\n",
       "      <td>0.323833</td>\n",
       "    </tr>\n",
       "    <tr>\n",
       "      <td>5</td>\n",
       "      <td>3</td>\n",
       "      <td>23rd Street\\, Pretoria\\, Gauteng\\, South Africa</td>\n",
       "      <td>0 Sterkfontein Avenue\\, Pretoria\\, Gauteng\\, S...</td>\n",
       "      <td>0.359500</td>\n",
       "    </tr>\n",
       "    <tr>\n",
       "      <td>6</td>\n",
       "      <td>4</td>\n",
       "      <td>100 Main Reef Road\\, Amalgam\\, Johannesburg</td>\n",
       "      <td>0 Booysens Station\\, Stafford\\, Johannesburg</td>\n",
       "      <td>0.368167</td>\n",
       "    </tr>\n",
       "    <tr>\n",
       "      <td>7</td>\n",
       "      <td>4</td>\n",
       "      <td>Unnamed Road\\, Kempton Park NU\\, Kempton Park</td>\n",
       "      <td>0 Corona Place\\, Sedibeng\\, Tembisa</td>\n",
       "      <td>0.376000</td>\n",
       "    </tr>\n",
       "    <tr>\n",
       "      <td>8</td>\n",
       "      <td>18</td>\n",
       "      <td>0 Montgomery Street\\, Vereeniging</td>\n",
       "      <td>Lager Street\\, Leeuwkuil\\, Vereeniging</td>\n",
       "      <td>0.380833</td>\n",
       "    </tr>\n",
       "    <tr>\n",
       "      <td>9</td>\n",
       "      <td>5</td>\n",
       "      <td>View Road\\, Northern Farm</td>\n",
       "      <td>Unnamed Road\\, West Rand\\, Gauteng\\, South Africa</td>\n",
       "      <td>0.387833</td>\n",
       "    </tr>\n",
       "    <tr>\n",
       "      <td>10</td>\n",
       "      <td>21</td>\n",
       "      <td>2nd Road\\, Eikenhof</td>\n",
       "      <td>Vereeniging Road\\, Vereeniging NU\\, Alberton</td>\n",
       "      <td>0.400000</td>\n",
       "    </tr>\n",
       "    <tr>\n",
       "      <td>11</td>\n",
       "      <td>19</td>\n",
       "      <td>2nd Road\\, Eikenhof</td>\n",
       "      <td>Vereeniging Road\\, Vereeniging NU\\, Alberton</td>\n",
       "      <td>0.407167</td>\n",
       "    </tr>\n",
       "    <tr>\n",
       "      <td>12</td>\n",
       "      <td>4</td>\n",
       "      <td>View Road\\, Northern Farm</td>\n",
       "      <td>Unnamed Road\\, West Rand\\, Gauteng\\, South Africa</td>\n",
       "      <td>0.414000</td>\n",
       "    </tr>\n",
       "    <tr>\n",
       "      <td>13</td>\n",
       "      <td>5</td>\n",
       "      <td>Unnamed Road\\, Rietfontein 61-Ir\\, Johannesburg</td>\n",
       "      <td>0 Soetdoring Street\\, Dowerglen\\, Edenvale</td>\n",
       "      <td>0.418500</td>\n",
       "    </tr>\n",
       "    <tr>\n",
       "      <td>14</td>\n",
       "      <td>6</td>\n",
       "      <td>View Road\\, Northern Farm</td>\n",
       "      <td>Unnamed Road\\, West Rand\\, Gauteng\\, South Africa</td>\n",
       "      <td>0.436667</td>\n",
       "    </tr>\n",
       "    <tr>\n",
       "      <td>15</td>\n",
       "      <td>3</td>\n",
       "      <td>Unnamed Road\\, Kempton Park NU\\, Kempton Park</td>\n",
       "      <td>0 Corona Place\\, Sedibeng\\, Tembisa</td>\n",
       "      <td>0.439833</td>\n",
       "    </tr>\n",
       "    <tr>\n",
       "      <td>16</td>\n",
       "      <td>21</td>\n",
       "      <td>0 Montgomery Street\\, Vereeniging</td>\n",
       "      <td>Lager Street\\, Leeuwkuil\\, Vereeniging</td>\n",
       "      <td>0.446333</td>\n",
       "    </tr>\n",
       "    <tr>\n",
       "      <td>17</td>\n",
       "      <td>2</td>\n",
       "      <td>0 Hopper Street\\, Denver\\, Johannesburg</td>\n",
       "      <td>0 Pendula Road\\, Heriotdale\\, Johannesburg South</td>\n",
       "      <td>0.452167</td>\n",
       "    </tr>\n",
       "    <tr>\n",
       "      <td>18</td>\n",
       "      <td>4</td>\n",
       "      <td>Unnamed Road\\, West Rand\\, Gauteng\\, South Africa</td>\n",
       "      <td>View Road\\, Northern Farm</td>\n",
       "      <td>0.461833</td>\n",
       "    </tr>\n",
       "    <tr>\n",
       "      <td>19</td>\n",
       "      <td>5</td>\n",
       "      <td>Unnamed Road\\, West Rand\\, Gauteng\\, South Africa</td>\n",
       "      <td>View Road\\, Northern Farm</td>\n",
       "      <td>0.462333</td>\n",
       "    </tr>\n",
       "  </tbody>\n",
       "</table>\n",
       "</div>"
      ],
      "text/plain": [
       "    Horário                                        Zona_Origem  \\\n",
       "0        19                  0 Montgomery Street\\, Vereeniging   \n",
       "1        14  0 Maunde Street\\, Elandsfontein 352-Jr\\, Pretoria   \n",
       "2        16                  0 Montgomery Street\\, Vereeniging   \n",
       "3         7                            Unnamed Road\\, Eikenhof   \n",
       "4        22                            Unnamed Road\\, Eikenhof   \n",
       "5         3    23rd Street\\, Pretoria\\, Gauteng\\, South Africa   \n",
       "6         4        100 Main Reef Road\\, Amalgam\\, Johannesburg   \n",
       "7         4      Unnamed Road\\, Kempton Park NU\\, Kempton Park   \n",
       "8        18                  0 Montgomery Street\\, Vereeniging   \n",
       "9         5                          View Road\\, Northern Farm   \n",
       "10       21                                2nd Road\\, Eikenhof   \n",
       "11       19                                2nd Road\\, Eikenhof   \n",
       "12        4                          View Road\\, Northern Farm   \n",
       "13        5    Unnamed Road\\, Rietfontein 61-Ir\\, Johannesburg   \n",
       "14        6                          View Road\\, Northern Farm   \n",
       "15        3      Unnamed Road\\, Kempton Park NU\\, Kempton Park   \n",
       "16       21                  0 Montgomery Street\\, Vereeniging   \n",
       "17        2            0 Hopper Street\\, Denver\\, Johannesburg   \n",
       "18        4  Unnamed Road\\, West Rand\\, Gauteng\\, South Africa   \n",
       "19        5  Unnamed Road\\, West Rand\\, Gauteng\\, South Africa   \n",
       "\n",
       "                                         Zona_Destino  Tempo_Medio  \n",
       "0              Lager Street\\, Leeuwkuil\\, Vereeniging     0.219000  \n",
       "1                       Avenue\\, Elandsfontein 352-Jr     0.297667  \n",
       "2              Lager Street\\, Leeuwkuil\\, Vereeniging     0.316667  \n",
       "3        Vereeniging Road\\, Vereeniging NU\\, Alberton     0.321167  \n",
       "4        Vereeniging Road\\, Vereeniging NU\\, Alberton     0.323833  \n",
       "5   0 Sterkfontein Avenue\\, Pretoria\\, Gauteng\\, S...     0.359500  \n",
       "6        0 Booysens Station\\, Stafford\\, Johannesburg     0.368167  \n",
       "7                 0 Corona Place\\, Sedibeng\\, Tembisa     0.376000  \n",
       "8              Lager Street\\, Leeuwkuil\\, Vereeniging     0.380833  \n",
       "9   Unnamed Road\\, West Rand\\, Gauteng\\, South Africa     0.387833  \n",
       "10       Vereeniging Road\\, Vereeniging NU\\, Alberton     0.400000  \n",
       "11       Vereeniging Road\\, Vereeniging NU\\, Alberton     0.407167  \n",
       "12  Unnamed Road\\, West Rand\\, Gauteng\\, South Africa     0.414000  \n",
       "13         0 Soetdoring Street\\, Dowerglen\\, Edenvale     0.418500  \n",
       "14  Unnamed Road\\, West Rand\\, Gauteng\\, South Africa     0.436667  \n",
       "15                0 Corona Place\\, Sedibeng\\, Tembisa     0.439833  \n",
       "16             Lager Street\\, Leeuwkuil\\, Vereeniging     0.446333  \n",
       "17   0 Pendula Road\\, Heriotdale\\, Johannesburg South     0.452167  \n",
       "18                          View Road\\, Northern Farm     0.461833  \n",
       "19                          View Road\\, Northern Farm     0.462333  "
      ]
     },
     "execution_count": 6,
     "metadata": {},
     "output_type": "execute_result"
    }
   ],
   "source": [
    "print(\"Consulta básica 4: Junção de duas relações: 20 viagens mais rápidas de Joanesburgo\")\n",
    "print(\"Tempo Médio em Minutos!\")\n",
    "df = pd.read_sql_query(\n",
    "\"select W.hod as Horário, N.zone_name as Zona_Origem, M.zone_name as Zona_Destino, mean_travel_time/60 as Tempo_Medio \"+\n",
    "\"from johannesburg_hourly as W \"+\n",
    "\"LEFT JOIN johannesburg_names as N ON W.sourceid = N.zone_id \"+\n",
    "\"LEFT JOIN johannesburg_names as M ON W.dstid = M.zone_id \"+\n",
    "\"order by Tempo_Medio asc limit 20\",conn)\n",
    "df"
   ]
  },
  {
   "cell_type": "code",
   "execution_count": 7,
   "metadata": {
    "scrolled": false
   },
   "outputs": [
    {
     "name": "stdout",
     "output_type": "stream",
     "text": [
      "Consulta básica 5: Junção de duas relações: Viagens cuja origem é a Sé e o destino é a Vila São Pedro\n"
     ]
    },
    {
     "data": {
      "text/html": [
       "<div>\n",
       "<style scoped>\n",
       "    .dataframe tbody tr th:only-of-type {\n",
       "        vertical-align: middle;\n",
       "    }\n",
       "\n",
       "    .dataframe tbody tr th {\n",
       "        vertical-align: top;\n",
       "    }\n",
       "\n",
       "    .dataframe thead th {\n",
       "        text-align: right;\n",
       "    }\n",
       "</style>\n",
       "<table border=\"1\" class=\"dataframe\">\n",
       "  <thead>\n",
       "    <tr style=\"text-align: right;\">\n",
       "      <th></th>\n",
       "      <th>Horário</th>\n",
       "      <th>Zona_Origem</th>\n",
       "      <th>Zona_Destino</th>\n",
       "      <th>Tempo_Medio</th>\n",
       "    </tr>\n",
       "  </thead>\n",
       "  <tbody>\n",
       "    <tr>\n",
       "      <td>0</td>\n",
       "      <td>0</td>\n",
       "      <td>Sé</td>\n",
       "      <td>Vila São Pedro</td>\n",
       "      <td>20.889000</td>\n",
       "    </tr>\n",
       "    <tr>\n",
       "      <td>1</td>\n",
       "      <td>1</td>\n",
       "      <td>Sé</td>\n",
       "      <td>Vila São Pedro</td>\n",
       "      <td>19.387167</td>\n",
       "    </tr>\n",
       "    <tr>\n",
       "      <td>2</td>\n",
       "      <td>2</td>\n",
       "      <td>Sé</td>\n",
       "      <td>Vila São Pedro</td>\n",
       "      <td>20.885167</td>\n",
       "    </tr>\n",
       "    <tr>\n",
       "      <td>3</td>\n",
       "      <td>3</td>\n",
       "      <td>Sé</td>\n",
       "      <td>Vila São Pedro</td>\n",
       "      <td>19.855667</td>\n",
       "    </tr>\n",
       "    <tr>\n",
       "      <td>4</td>\n",
       "      <td>4</td>\n",
       "      <td>Sé</td>\n",
       "      <td>Vila São Pedro</td>\n",
       "      <td>21.437500</td>\n",
       "    </tr>\n",
       "    <tr>\n",
       "      <td>5</td>\n",
       "      <td>5</td>\n",
       "      <td>Sé</td>\n",
       "      <td>Vila São Pedro</td>\n",
       "      <td>20.669000</td>\n",
       "    </tr>\n",
       "    <tr>\n",
       "      <td>6</td>\n",
       "      <td>6</td>\n",
       "      <td>Sé</td>\n",
       "      <td>Vila São Pedro</td>\n",
       "      <td>23.485333</td>\n",
       "    </tr>\n",
       "    <tr>\n",
       "      <td>7</td>\n",
       "      <td>7</td>\n",
       "      <td>Sé</td>\n",
       "      <td>Vila São Pedro</td>\n",
       "      <td>29.047833</td>\n",
       "    </tr>\n",
       "    <tr>\n",
       "      <td>8</td>\n",
       "      <td>8</td>\n",
       "      <td>Sé</td>\n",
       "      <td>Vila São Pedro</td>\n",
       "      <td>32.688000</td>\n",
       "    </tr>\n",
       "    <tr>\n",
       "      <td>9</td>\n",
       "      <td>9</td>\n",
       "      <td>Sé</td>\n",
       "      <td>Vila São Pedro</td>\n",
       "      <td>32.764667</td>\n",
       "    </tr>\n",
       "    <tr>\n",
       "      <td>10</td>\n",
       "      <td>10</td>\n",
       "      <td>Sé</td>\n",
       "      <td>Vila São Pedro</td>\n",
       "      <td>30.559000</td>\n",
       "    </tr>\n",
       "    <tr>\n",
       "      <td>11</td>\n",
       "      <td>11</td>\n",
       "      <td>Sé</td>\n",
       "      <td>Vila São Pedro</td>\n",
       "      <td>30.197333</td>\n",
       "    </tr>\n",
       "    <tr>\n",
       "      <td>12</td>\n",
       "      <td>12</td>\n",
       "      <td>Sé</td>\n",
       "      <td>Vila São Pedro</td>\n",
       "      <td>29.835500</td>\n",
       "    </tr>\n",
       "    <tr>\n",
       "      <td>13</td>\n",
       "      <td>13</td>\n",
       "      <td>Sé</td>\n",
       "      <td>Vila São Pedro</td>\n",
       "      <td>31.375833</td>\n",
       "    </tr>\n",
       "    <tr>\n",
       "      <td>14</td>\n",
       "      <td>14</td>\n",
       "      <td>Sé</td>\n",
       "      <td>Vila São Pedro</td>\n",
       "      <td>33.187667</td>\n",
       "    </tr>\n",
       "    <tr>\n",
       "      <td>15</td>\n",
       "      <td>15</td>\n",
       "      <td>Sé</td>\n",
       "      <td>Vila São Pedro</td>\n",
       "      <td>37.602000</td>\n",
       "    </tr>\n",
       "    <tr>\n",
       "      <td>16</td>\n",
       "      <td>16</td>\n",
       "      <td>Sé</td>\n",
       "      <td>Vila São Pedro</td>\n",
       "      <td>43.990500</td>\n",
       "    </tr>\n",
       "    <tr>\n",
       "      <td>17</td>\n",
       "      <td>17</td>\n",
       "      <td>Sé</td>\n",
       "      <td>Vila São Pedro</td>\n",
       "      <td>45.607833</td>\n",
       "    </tr>\n",
       "    <tr>\n",
       "      <td>18</td>\n",
       "      <td>18</td>\n",
       "      <td>Sé</td>\n",
       "      <td>Vila São Pedro</td>\n",
       "      <td>41.473833</td>\n",
       "    </tr>\n",
       "    <tr>\n",
       "      <td>19</td>\n",
       "      <td>19</td>\n",
       "      <td>Sé</td>\n",
       "      <td>Vila São Pedro</td>\n",
       "      <td>32.994333</td>\n",
       "    </tr>\n",
       "    <tr>\n",
       "      <td>20</td>\n",
       "      <td>20</td>\n",
       "      <td>Sé</td>\n",
       "      <td>Vila São Pedro</td>\n",
       "      <td>25.982333</td>\n",
       "    </tr>\n",
       "    <tr>\n",
       "      <td>21</td>\n",
       "      <td>21</td>\n",
       "      <td>Sé</td>\n",
       "      <td>Vila São Pedro</td>\n",
       "      <td>22.728667</td>\n",
       "    </tr>\n",
       "    <tr>\n",
       "      <td>22</td>\n",
       "      <td>22</td>\n",
       "      <td>Sé</td>\n",
       "      <td>Vila São Pedro</td>\n",
       "      <td>22.139500</td>\n",
       "    </tr>\n",
       "    <tr>\n",
       "      <td>23</td>\n",
       "      <td>23</td>\n",
       "      <td>Sé</td>\n",
       "      <td>Vila São Pedro</td>\n",
       "      <td>21.255167</td>\n",
       "    </tr>\n",
       "  </tbody>\n",
       "</table>\n",
       "</div>"
      ],
      "text/plain": [
       "    Horário Zona_Origem    Zona_Destino  Tempo_Medio\n",
       "0         0          Sé  Vila São Pedro    20.889000\n",
       "1         1          Sé  Vila São Pedro    19.387167\n",
       "2         2          Sé  Vila São Pedro    20.885167\n",
       "3         3          Sé  Vila São Pedro    19.855667\n",
       "4         4          Sé  Vila São Pedro    21.437500\n",
       "5         5          Sé  Vila São Pedro    20.669000\n",
       "6         6          Sé  Vila São Pedro    23.485333\n",
       "7         7          Sé  Vila São Pedro    29.047833\n",
       "8         8          Sé  Vila São Pedro    32.688000\n",
       "9         9          Sé  Vila São Pedro    32.764667\n",
       "10       10          Sé  Vila São Pedro    30.559000\n",
       "11       11          Sé  Vila São Pedro    30.197333\n",
       "12       12          Sé  Vila São Pedro    29.835500\n",
       "13       13          Sé  Vila São Pedro    31.375833\n",
       "14       14          Sé  Vila São Pedro    33.187667\n",
       "15       15          Sé  Vila São Pedro    37.602000\n",
       "16       16          Sé  Vila São Pedro    43.990500\n",
       "17       17          Sé  Vila São Pedro    45.607833\n",
       "18       18          Sé  Vila São Pedro    41.473833\n",
       "19       19          Sé  Vila São Pedro    32.994333\n",
       "20       20          Sé  Vila São Pedro    25.982333\n",
       "21       21          Sé  Vila São Pedro    22.728667\n",
       "22       22          Sé  Vila São Pedro    22.139500\n",
       "23       23          Sé  Vila São Pedro    21.255167"
      ]
     },
     "execution_count": 7,
     "metadata": {},
     "output_type": "execute_result"
    }
   ],
   "source": [
    "print(\"Consulta básica 5: Junção de duas relações: Viagens cuja origem é a Sé e o destino é a Vila São Pedro\")\n",
    "df = pd.read_sql_query(\n",
    "\"select W.hod as Horário, N.zone_name as Zona_Origem, M.zone_name as Zona_Destino, mean_travel_time/60 as Tempo_Medio \"+\n",
    "\"from sao_paulo_hourly as W \"+\n",
    "\"LEFT JOIN sao_paulo_names as N ON W.sourceid = N.zone_id \"+\n",
    "\"LEFT JOIN sao_paulo_names as M ON W.dstid = M.zone_id \"+\n",
    "\"where Zona_Origem = \\\"Sé\\\" and Zona_Destino = \\\"Vila São Pedro\\\"\",conn)\n",
    "df"
   ]
  },
  {
   "cell_type": "code",
   "execution_count": 8,
   "metadata": {},
   "outputs": [
    {
     "name": "stdout",
     "output_type": "stream",
     "text": [
      "Consulta básica 6: Junção de três relações: Retornar os 10 primeiros ID's e os nomes de 3 cidades!\n"
     ]
    },
    {
     "data": {
      "text/html": [
       "<div>\n",
       "<style scoped>\n",
       "    .dataframe tbody tr th:only-of-type {\n",
       "        vertical-align: middle;\n",
       "    }\n",
       "\n",
       "    .dataframe tbody tr th {\n",
       "        vertical-align: top;\n",
       "    }\n",
       "\n",
       "    .dataframe thead th {\n",
       "        text-align: right;\n",
       "    }\n",
       "</style>\n",
       "<table border=\"1\" class=\"dataframe\">\n",
       "  <thead>\n",
       "    <tr style=\"text-align: right;\">\n",
       "      <th></th>\n",
       "      <th>SP_zone</th>\n",
       "      <th>Manchester_zone</th>\n",
       "      <th>Cairo_zone</th>\n",
       "      <th>ID</th>\n",
       "    </tr>\n",
       "  </thead>\n",
       "  <tbody>\n",
       "    <tr>\n",
       "      <td>0</td>\n",
       "      <td>Sé</td>\n",
       "      <td>Manchester 020</td>\n",
       "      <td>Unnamed Road</td>\n",
       "      <td>1</td>\n",
       "    </tr>\n",
       "    <tr>\n",
       "      <td>1</td>\n",
       "      <td>Lapa</td>\n",
       "      <td>Salford 018</td>\n",
       "      <td>300 Street 15</td>\n",
       "      <td>100</td>\n",
       "    </tr>\n",
       "    <tr>\n",
       "      <td>2</td>\n",
       "      <td>Vila Ipojuca</td>\n",
       "      <td>Salford 019</td>\n",
       "      <td>Unnamed Road</td>\n",
       "      <td>101</td>\n",
       "    </tr>\n",
       "    <tr>\n",
       "      <td>3</td>\n",
       "      <td>Alto da Lapa</td>\n",
       "      <td>Salford 020</td>\n",
       "      <td>شارع مسجد أبو يوسف، Mazghounah</td>\n",
       "      <td>102</td>\n",
       "    </tr>\n",
       "    <tr>\n",
       "      <td>4</td>\n",
       "      <td>Gavião Peixoto</td>\n",
       "      <td>Salford 021</td>\n",
       "      <td>0 Al Arbaaon</td>\n",
       "      <td>103</td>\n",
       "    </tr>\n",
       "    <tr>\n",
       "      <td>5</td>\n",
       "      <td>Bela Aliança</td>\n",
       "      <td>Salford 022</td>\n",
       "      <td>Mansheit Al Bagour - Shebein Al Kanater</td>\n",
       "      <td>104</td>\n",
       "    </tr>\n",
       "    <tr>\n",
       "      <td>6</td>\n",
       "      <td>Vila Hamburguesa</td>\n",
       "      <td>Salford 023</td>\n",
       "      <td>Abd El-Aziz Sallam</td>\n",
       "      <td>105</td>\n",
       "    </tr>\n",
       "    <tr>\n",
       "      <td>7</td>\n",
       "      <td>CEASA</td>\n",
       "      <td>Salford 024</td>\n",
       "      <td>Unnamed Road</td>\n",
       "      <td>106</td>\n",
       "    </tr>\n",
       "    <tr>\n",
       "      <td>8</td>\n",
       "      <td>Vila Leopoldina</td>\n",
       "      <td>Salford 025</td>\n",
       "      <td>26th of July Corridor</td>\n",
       "      <td>107</td>\n",
       "    </tr>\n",
       "    <tr>\n",
       "      <td>9</td>\n",
       "      <td>Emissário</td>\n",
       "      <td>Salford 026</td>\n",
       "      <td>Unnamed Road</td>\n",
       "      <td>108</td>\n",
       "    </tr>\n",
       "  </tbody>\n",
       "</table>\n",
       "</div>"
      ],
      "text/plain": [
       "            SP_zone Manchester_zone                               Cairo_zone  \\\n",
       "0                Sé  Manchester 020                             Unnamed Road   \n",
       "1              Lapa     Salford 018                            300 Street 15   \n",
       "2      Vila Ipojuca     Salford 019                             Unnamed Road   \n",
       "3      Alto da Lapa     Salford 020           شارع مسجد أبو يوسف، Mazghounah   \n",
       "4    Gavião Peixoto     Salford 021                             0 Al Arbaaon   \n",
       "5      Bela Aliança     Salford 022  Mansheit Al Bagour - Shebein Al Kanater   \n",
       "6  Vila Hamburguesa     Salford 023                       Abd El-Aziz Sallam   \n",
       "7             CEASA     Salford 024                             Unnamed Road   \n",
       "8   Vila Leopoldina     Salford 025                    26th of July Corridor   \n",
       "9         Emissário     Salford 026                             Unnamed Road   \n",
       "\n",
       "    ID  \n",
       "0    1  \n",
       "1  100  \n",
       "2  101  \n",
       "3  102  \n",
       "4  103  \n",
       "5  104  \n",
       "6  105  \n",
       "7  106  \n",
       "8  107  \n",
       "9  108  "
      ]
     },
     "execution_count": 8,
     "metadata": {},
     "output_type": "execute_result"
    }
   ],
   "source": [
    "print(\"Consulta básica 6: Junção de três relações: Retornar os 10 primeiros ID's e os nomes de 3 cidades!\")\n",
    "df = pd.read_sql_query(\n",
    "    \"select S.zone_name as SP_zone, M.zone_name as Manchester_zone, C.zone_name as Cairo_zone, S.zone_id as ID \"+\n",
    "    \"from sao_paulo_names as S \" +\n",
    "    \"join manchester_names as M on S.zone_id = M.zone_id \"+\n",
    "    \"join cairo_names as C on M.zone_id = C.zone_id \"+\n",
    "    \"order by ID asc limit 10\", conn)\n",
    "df"
   ]
  },
  {
   "cell_type": "code",
   "execution_count": 9,
   "metadata": {},
   "outputs": [
    {
     "name": "stdout",
     "output_type": "stream",
     "text": [
      "Consulta básica 7: Junção de três relações: Médias de tempo de viagem de todas as cidades!\n",
      "Tempo médio em minutos!\n"
     ]
    },
    {
     "data": {
      "text/html": [
       "<div>\n",
       "<style scoped>\n",
       "    .dataframe tbody tr th:only-of-type {\n",
       "        vertical-align: middle;\n",
       "    }\n",
       "\n",
       "    .dataframe tbody tr th {\n",
       "        vertical-align: top;\n",
       "    }\n",
       "\n",
       "    .dataframe thead th {\n",
       "        text-align: right;\n",
       "    }\n",
       "</style>\n",
       "<table border=\"1\" class=\"dataframe\">\n",
       "  <thead>\n",
       "    <tr style=\"text-align: right;\">\n",
       "      <th></th>\n",
       "      <th>SP_media</th>\n",
       "      <th>Manchester_media</th>\n",
       "      <th>Cairo_media</th>\n",
       "      <th>Johannesburg_media</th>\n",
       "    </tr>\n",
       "  </thead>\n",
       "  <tbody>\n",
       "    <tr>\n",
       "      <td>0</td>\n",
       "      <td>34.778021</td>\n",
       "      <td>14.501107</td>\n",
       "      <td>33.867151</td>\n",
       "      <td>20.844861</td>\n",
       "    </tr>\n",
       "  </tbody>\n",
       "</table>\n",
       "</div>"
      ],
      "text/plain": [
       "    SP_media  Manchester_media  Cairo_media  Johannesburg_media\n",
       "0  34.778021         14.501107    33.867151           20.844861"
      ]
     },
     "execution_count": 9,
     "metadata": {},
     "output_type": "execute_result"
    }
   ],
   "source": [
    "print(\"Consulta básica 7: Junção de três relações: Médias de tempo de viagem de todas as cidades!\")\n",
    "print(\"Tempo médio em minutos!\")\n",
    "df = pd.read_sql_query(\n",
    "    \"select S.media as SP_media, M.media as Manchester_media, C.media as Cairo_media, J.media as Johannesburg_media \"+\n",
    "    \"from (select avg(mean_travel_time)/60 as media from sao_paulo_hourly) as S join \"+\n",
    "    \"(select avg(mean_travel_time)/60 as media from manchester_hourly) as M join\"+\n",
    "    \"(select avg(mean_travel_time)/60 as media from cairo_hourly) as C join \"+\n",
    "    \"(select avg(mean_travel_time)/60 as media from johannesburg_hourly) as J\", conn)\n",
    "df"
   ]
  },
  {
   "cell_type": "code",
   "execution_count": 10,
   "metadata": {},
   "outputs": [
    {
     "name": "stdout",
     "output_type": "stream",
     "text": [
      "Consulta básica 8: Junção de três relações: Menor de tempo de viagem de todas as cidades!\n",
      "Tempo médio em segundos!\n"
     ]
    },
    {
     "data": {
      "text/html": [
       "<div>\n",
       "<style scoped>\n",
       "    .dataframe tbody tr th:only-of-type {\n",
       "        vertical-align: middle;\n",
       "    }\n",
       "\n",
       "    .dataframe tbody tr th {\n",
       "        vertical-align: top;\n",
       "    }\n",
       "\n",
       "    .dataframe thead th {\n",
       "        text-align: right;\n",
       "    }\n",
       "</style>\n",
       "<table border=\"1\" class=\"dataframe\">\n",
       "  <thead>\n",
       "    <tr style=\"text-align: right;\">\n",
       "      <th></th>\n",
       "      <th>SP_minimo</th>\n",
       "      <th>Manchester_minimo</th>\n",
       "      <th>Cairo_minimo</th>\n",
       "      <th>Johannesburg_minimo</th>\n",
       "    </tr>\n",
       "  </thead>\n",
       "  <tbody>\n",
       "    <tr>\n",
       "      <td>0</td>\n",
       "      <td>33.67</td>\n",
       "      <td>30.26</td>\n",
       "      <td>6.43</td>\n",
       "      <td>13.14</td>\n",
       "    </tr>\n",
       "  </tbody>\n",
       "</table>\n",
       "</div>"
      ],
      "text/plain": [
       "   SP_minimo  Manchester_minimo  Cairo_minimo  Johannesburg_minimo\n",
       "0      33.67              30.26          6.43                13.14"
      ]
     },
     "execution_count": 10,
     "metadata": {},
     "output_type": "execute_result"
    }
   ],
   "source": [
    "print(\"Consulta básica 8: Junção de três relações: Menor de tempo de viagem de todas as cidades!\")\n",
    "print(\"Tempo médio em segundos!\")\n",
    "df = pd.read_sql_query(\n",
    "    \"select S.minimo as SP_minimo, M.minimo as Manchester_minimo, C.minimo as Cairo_minimo, J.minimo as Johannesburg_minimo \"+\n",
    "    \"from (select min(mean_travel_time) as minimo from sao_paulo_hourly) as S join \"+\n",
    "    \"(select min(mean_travel_time) as minimo from manchester_hourly) as M join\"+\n",
    "    \"(select min(mean_travel_time) as minimo from cairo_hourly) as C join \"+\n",
    "    \"(select min(mean_travel_time) as minimo from johannesburg_hourly) as J\", conn)\n",
    "df"
   ]
  },
  {
   "cell_type": "code",
   "execution_count": 11,
   "metadata": {
    "scrolled": false
   },
   "outputs": [
    {
     "name": "stdout",
     "output_type": "stream",
     "text": [
      "Consulta básica 9: Junção de duas relações e agregação: Tempo médio diário entre Al Waresh e Kornish Al Nile\n",
      "Tempo médio em minutos!\n"
     ]
    },
    {
     "data": {
      "text/html": [
       "<div>\n",
       "<style scoped>\n",
       "    .dataframe tbody tr th:only-of-type {\n",
       "        vertical-align: middle;\n",
       "    }\n",
       "\n",
       "    .dataframe tbody tr th {\n",
       "        vertical-align: top;\n",
       "    }\n",
       "\n",
       "    .dataframe thead th {\n",
       "        text-align: right;\n",
       "    }\n",
       "</style>\n",
       "<table border=\"1\" class=\"dataframe\">\n",
       "  <thead>\n",
       "    <tr style=\"text-align: right;\">\n",
       "      <th></th>\n",
       "      <th>Zona_Origem</th>\n",
       "      <th>Zona_Destino</th>\n",
       "      <th>Tempo_Medio</th>\n",
       "    </tr>\n",
       "  </thead>\n",
       "  <tbody>\n",
       "    <tr>\n",
       "      <td>0</td>\n",
       "      <td>Al Waresh</td>\n",
       "      <td>Kornish Al Nile</td>\n",
       "      <td>36.743067</td>\n",
       "    </tr>\n",
       "  </tbody>\n",
       "</table>\n",
       "</div>"
      ],
      "text/plain": [
       "  Zona_Origem     Zona_Destino  Tempo_Medio\n",
       "0   Al Waresh  Kornish Al Nile    36.743067"
      ]
     },
     "execution_count": 11,
     "metadata": {},
     "output_type": "execute_result"
    }
   ],
   "source": [
    "print(\"Consulta básica 9: Junção de duas relações e agregação: Tempo médio diário entre Al Waresh e Kornish Al Nile\")\n",
    "print(\"Tempo médio em minutos!\")\n",
    "df = pd.read_sql_query(\n",
    "\"select N.zone_name as Zona_Origem, M.zone_name as Zona_Destino, avg(mean_travel_time)/60 as Tempo_Medio \"+\n",
    "\"from cairo_hourly as W \"+\n",
    "\"LEFT JOIN cairo_names as N ON W.sourceid = N.zone_id \"+\n",
    "\"LEFT JOIN cairo_names as M ON W.dstid = M.zone_id \"+\n",
    "\"where Zona_Origem = \\\"Al Waresh\\\" and Zona_Destino = \\\"Kornish Al Nile\\\"\", conn)\n",
    "df"
   ]
  },
  {
   "cell_type": "code",
   "execution_count": 12,
   "metadata": {},
   "outputs": [
    {
     "name": "stdout",
     "output_type": "stream",
     "text": [
      "Consulta básica 10: Junção de duas relações e agregação: Maior tempo médio entre dois pontos de SP\n",
      "Tempo médio em minutos!\n"
     ]
    },
    {
     "data": {
      "text/html": [
       "<div>\n",
       "<style scoped>\n",
       "    .dataframe tbody tr th:only-of-type {\n",
       "        vertical-align: middle;\n",
       "    }\n",
       "\n",
       "    .dataframe tbody tr th {\n",
       "        vertical-align: top;\n",
       "    }\n",
       "\n",
       "    .dataframe thead th {\n",
       "        text-align: right;\n",
       "    }\n",
       "</style>\n",
       "<table border=\"1\" class=\"dataframe\">\n",
       "  <thead>\n",
       "    <tr style=\"text-align: right;\">\n",
       "      <th></th>\n",
       "      <th>Horário</th>\n",
       "      <th>Zona_Origem</th>\n",
       "      <th>Zona_Destino</th>\n",
       "      <th>Tempo_Máximo</th>\n",
       "    </tr>\n",
       "  </thead>\n",
       "  <tbody>\n",
       "    <tr>\n",
       "      <td>0</td>\n",
       "      <td>21</td>\n",
       "      <td>Aeroporto</td>\n",
       "      <td>Aeroporto</td>\n",
       "      <td>171.604167</td>\n",
       "    </tr>\n",
       "  </tbody>\n",
       "</table>\n",
       "</div>"
      ],
      "text/plain": [
       "   Horário Zona_Origem Zona_Destino  Tempo_Máximo\n",
       "0       21   Aeroporto    Aeroporto    171.604167"
      ]
     },
     "execution_count": 12,
     "metadata": {},
     "output_type": "execute_result"
    }
   ],
   "source": [
    "print(\"Consulta básica 10: Junção de duas relações e agregação: Maior tempo médio entre dois pontos de SP\")\n",
    "print(\"Tempo médio em minutos!\")\n",
    "df = pd.read_sql_query(\n",
    "\"select W.hod as Horário, N.zone_name as Zona_Origem, M.zone_name as Zona_Destino, max(mean_travel_time)/60 as Tempo_Máximo \"+\n",
    "\"from sao_paulo_hourly as W \"+\n",
    "\"LEFT JOIN sao_paulo_names as N ON W.sourceid = N.zone_id \"+\n",
    "\"LEFT JOIN sao_paulo_names as M ON W.dstid = M.zone_id \", conn)\n",
    "df"
   ]
  },
  {
   "cell_type": "code",
   "execution_count": 13,
   "metadata": {},
   "outputs": [
    {
     "name": "stdout",
     "output_type": "stream",
     "text": [
      "Consulta Avançada 1: Relatório: Tempo médio das cidades agrupado pela manhã\n",
      "Tempo médio em minutos!\n"
     ]
    },
    {
     "data": {
      "text/html": [
       "<div>\n",
       "<style scoped>\n",
       "    .dataframe tbody tr th:only-of-type {\n",
       "        vertical-align: middle;\n",
       "    }\n",
       "\n",
       "    .dataframe tbody tr th {\n",
       "        vertical-align: top;\n",
       "    }\n",
       "\n",
       "    .dataframe thead th {\n",
       "        text-align: right;\n",
       "    }\n",
       "</style>\n",
       "<table border=\"1\" class=\"dataframe\">\n",
       "  <thead>\n",
       "    <tr style=\"text-align: right;\">\n",
       "      <th></th>\n",
       "      <th>SP_media</th>\n",
       "      <th>Manchester_media</th>\n",
       "      <th>Cairo_media</th>\n",
       "      <th>Johannesburg_media</th>\n",
       "    </tr>\n",
       "  </thead>\n",
       "  <tbody>\n",
       "    <tr>\n",
       "      <td>0</td>\n",
       "      <td>35.366365</td>\n",
       "      <td>14.105854</td>\n",
       "      <td>31.293767</td>\n",
       "      <td>20.982879</td>\n",
       "    </tr>\n",
       "  </tbody>\n",
       "</table>\n",
       "</div>"
      ],
      "text/plain": [
       "    SP_media  Manchester_media  Cairo_media  Johannesburg_media\n",
       "0  35.366365         14.105854    31.293767           20.982879"
      ]
     },
     "execution_count": 13,
     "metadata": {},
     "output_type": "execute_result"
    }
   ],
   "source": [
    "print(\"Consulta Avançada 1: Relatório: Tempo médio das cidades agrupado pela manhã\")\n",
    "print(\"Tempo médio em minutos!\")\n",
    "df = pd.read_sql_query(\n",
    "    \"select S.media as SP_media, M.media as Manchester_media, C.media as Cairo_media, J.media as Johannesburg_media \"+\n",
    "    \"from (select avg(mean_travel_time)/60 as media from sao_paulo_hourly where hod in (4,5,6,7,8,9,10,11)) as S join \"+\n",
    "    \"(select avg(mean_travel_time)/60 as media from manchester_hourly where hod in (4,5,6,7,8,9,10,11)) as M join\"+\n",
    "    \"(select avg(mean_travel_time)/60 as media from cairo_hourly where hod in (4,5,6,7,8,9,10,11)) as C join \"+\n",
    "    \"(select avg(mean_travel_time)/60 as media from johannesburg_hourly where hod in (4,5,6,7,8,9,10,11)) as J\", conn)\n",
    "df"
   ]
  },
  {
   "cell_type": "code",
   "execution_count": 16,
   "metadata": {},
   "outputs": [
    {
     "name": "stdout",
     "output_type": "stream",
     "text": [
      "Consulta Avançada 2: Relatório: Tempo médio das cidades agrupado pela tarde\n",
      "Tempo médio em minutos!\n"
     ]
    },
    {
     "data": {
      "text/html": [
       "<div>\n",
       "<style scoped>\n",
       "    .dataframe tbody tr th:only-of-type {\n",
       "        vertical-align: middle;\n",
       "    }\n",
       "\n",
       "    .dataframe tbody tr th {\n",
       "        vertical-align: top;\n",
       "    }\n",
       "\n",
       "    .dataframe thead th {\n",
       "        text-align: right;\n",
       "    }\n",
       "</style>\n",
       "<table border=\"1\" class=\"dataframe\">\n",
       "  <thead>\n",
       "    <tr style=\"text-align: right;\">\n",
       "      <th></th>\n",
       "      <th>SP_media</th>\n",
       "      <th>Manchester_media</th>\n",
       "      <th>Cairo_media</th>\n",
       "      <th>Johannesburg_media</th>\n",
       "    </tr>\n",
       "  </thead>\n",
       "  <tbody>\n",
       "    <tr>\n",
       "      <td>0</td>\n",
       "      <td>39.861027</td>\n",
       "      <td>16.168083</td>\n",
       "      <td>37.325965</td>\n",
       "      <td>22.451022</td>\n",
       "    </tr>\n",
       "  </tbody>\n",
       "</table>\n",
       "</div>"
      ],
      "text/plain": [
       "    SP_media  Manchester_media  Cairo_media  Johannesburg_media\n",
       "0  39.861027         16.168083    37.325965           22.451022"
      ]
     },
     "execution_count": 16,
     "metadata": {},
     "output_type": "execute_result"
    }
   ],
   "source": [
    "print(\"Consulta Avançada 2: Relatório: Tempo médio das cidades agrupado pela tarde\")\n",
    "print(\"Tempo médio em minutos!\")\n",
    "df = pd.read_sql_query(\n",
    "    \"select S.media as SP_media, M.media as Manchester_media, C.media as Cairo_media, J.media as Johannesburg_media \"+\n",
    "    \"from (select avg(mean_travel_time)/60 as media from sao_paulo_hourly where hod in (12,13,14,15,16,17,18,19)) as S join \"+\n",
    "    \"(select avg(mean_travel_time)/60 as media from manchester_hourly where hod in (12,13,14,15,16,17,18,19)) as M join\"+\n",
    "    \"(select avg(mean_travel_time)/60 as media from cairo_hourly where hod in (12,13,14,15,16,17,18,19)) as C join \"+\n",
    "    \"(select avg(mean_travel_time)/60 as media from johannesburg_hourly where hod in (12,13,14,15,16,17,18,19)) as J\", conn)\n",
    "df"
   ]
  },
  {
   "cell_type": "code",
   "execution_count": 15,
   "metadata": {},
   "outputs": [
    {
     "name": "stdout",
     "output_type": "stream",
     "text": [
      "Consulta Avançada 3: Relatório: Tempo médio das cidades agrupado pela noite\n",
      "Tempo médio em minutos!\n"
     ]
    },
    {
     "data": {
      "text/html": [
       "<div>\n",
       "<style scoped>\n",
       "    .dataframe tbody tr th:only-of-type {\n",
       "        vertical-align: middle;\n",
       "    }\n",
       "\n",
       "    .dataframe tbody tr th {\n",
       "        vertical-align: top;\n",
       "    }\n",
       "\n",
       "    .dataframe thead th {\n",
       "        text-align: right;\n",
       "    }\n",
       "</style>\n",
       "<table border=\"1\" class=\"dataframe\">\n",
       "  <thead>\n",
       "    <tr style=\"text-align: right;\">\n",
       "      <th></th>\n",
       "      <th>SP_media</th>\n",
       "      <th>Manchester_media</th>\n",
       "      <th>Cairo_media</th>\n",
       "      <th>Johannesburg_media</th>\n",
       "    </tr>\n",
       "  </thead>\n",
       "  <tbody>\n",
       "    <tr>\n",
       "      <td>0</td>\n",
       "      <td>28.324416</td>\n",
       "      <td>13.208301</td>\n",
       "      <td>32.172935</td>\n",
       "      <td>18.407192</td>\n",
       "    </tr>\n",
       "  </tbody>\n",
       "</table>\n",
       "</div>"
      ],
      "text/plain": [
       "    SP_media  Manchester_media  Cairo_media  Johannesburg_media\n",
       "0  28.324416         13.208301    32.172935           18.407192"
      ]
     },
     "execution_count": 15,
     "metadata": {},
     "output_type": "execute_result"
    }
   ],
   "source": [
    "print(\"Consulta Avançada 3: Relatório: Tempo médio das cidades agrupado pela noite\")\n",
    "print(\"Tempo médio em minutos!\")\n",
    "df = pd.read_sql_query(\n",
    "    \"select S.media as SP_media, M.media as Manchester_media, C.media as Cairo_media, J.media as Johannesburg_media \"+\n",
    "    \"from (select avg(mean_travel_time)/60 as media from sao_paulo_hourly where hod in (20,21,22,23,0,1,2,3)) as S join \"+\n",
    "    \"(select avg(mean_travel_time)/60 as media from manchester_hourly where hod in (20,21,22,23,0,1,2,3)) as M join\"+\n",
    "    \"(select avg(mean_travel_time)/60 as media from cairo_hourly where hod in (20,21,22,23,0,1,2,3)) as C join \"+\n",
    "    \"(select avg(mean_travel_time)/60 as media from johannesburg_hourly where hod in (20,21,22,23,0,1,2,3)) as J\", conn)\n",
    "df"
   ]
  },
  {
   "cell_type": "code",
   "execution_count": 80,
   "metadata": {},
   "outputs": [
    {
     "name": "stdout",
     "output_type": "stream",
     "text": [
      "Gráficos 1! Tempo Médio em São Paulo por hora do dia\n"
     ]
    },
    {
     "data": {
      "text/plain": [
       "<matplotlib.axes._subplots.AxesSubplot at 0x7f5405cc5310>"
      ]
     },
     "execution_count": 80,
     "metadata": {},
     "output_type": "execute_result"
    },
    {
     "data": {
      "image/png": "[encoded data removed]",
      "text/plain": [
       "<Figure size 720x720 with 1 Axes>"
      ]
     },
     "metadata": {
      "needs_background": "light"
     },
     "output_type": "display_data"
    }
   ],
   "source": [
    "print(\"Gráficos 1! Tempo Médio em São Paulo por hora do dia\")\n",
    "df = pd.read_sql_query(\n",
    "    \"select hod as Hora_do_dia, avg(mean_travel_time)/60 as Tempo_Medio_em_minutos \"+\n",
    "    \"from sao_paulo_hourly \"+\n",
    "    \"group by(Hora_do_dia);\", conn)\n",
    "df.plot(x ='Hora_do_dia', y='Tempo_Medio_em_minutos', kind = 'bar', figsize = (10,10), color = 'b', ylim=(20, 50))\t"
   ]
  },
  {
   "cell_type": "code",
   "execution_count": 75,
   "metadata": {},
   "outputs": [
    {
     "name": "stdout",
     "output_type": "stream",
     "text": [
      "Gráficos 1! Tempo Médio em Manchester por hora do dia\n"
     ]
    },
    {
     "data": {
      "text/plain": [
       "<matplotlib.axes._subplots.AxesSubplot at 0x7f540612af90>"
      ]
     },
     "execution_count": 75,
     "metadata": {},
     "output_type": "execute_result"
    },
    {
     "data": {
      "image/png": "[encoded data removed]",
      "text/plain": [
       "<Figure size 720x720 with 1 Axes>"
      ]
     },
     "metadata": {
      "needs_background": "light"
     },
     "output_type": "display_data"
    }
   ],
   "source": [
    "print(\"Gráficos 2! Tempo Médio em Manchester por hora do dia\")\n",
    "df = pd.read_sql_query(\n",
    "    \"select hod as Hora_do_dia, avg(mean_travel_time)/60 as Tempo_Medio_em_minutos \"+\n",
    "    \"from manchester_hourly \"+\n",
    "    \"group by(Hora_do_dia);\", conn)\n",
    "df.plot(x ='Hora_do_dia', y='Tempo_Medio_em_minutos', kind = 'bar', figsize = (10,10), color = 'r', ylim=(10, 20))\t"
   ]
  },
  {
   "cell_type": "code",
   "execution_count": 84,
   "metadata": {},
   "outputs": [
    {
     "name": "stdout",
     "output_type": "stream",
     "text": [
      "Gráficos 3! Tempo Médio em Johannesburgo por hora do dia\n"
     ]
    },
    {
     "data": {
      "text/plain": [
       "<matplotlib.axes._subplots.AxesSubplot at 0x7f5405964690>"
      ]
     },
     "execution_count": 84,
     "metadata": {},
     "output_type": "execute_result"
    },
    {
     "data": {
      "image/png": "[encoded data removed]",
      "text/plain": [
       "<Figure size 720x720 with 1 Axes>"
      ]
     },
     "metadata": {
      "needs_background": "light"
     },
     "output_type": "display_data"
    }
   ],
   "source": [
    "print(\"Gráficos 3! Tempo Médio em Johannesburgo por hora do dia\")\n",
    "df = pd.read_sql_query(\n",
    "    \"select hod as Hora_do_dia, avg(mean_travel_time)/60 as Tempo_Medio_em_minutos \"+\n",
    "    \"from johannesburg_hourly \"+\n",
    "    \"group by(Hora_do_dia);\", conn)\n",
    "df.plot(x ='Hora_do_dia', y='Tempo_Medio_em_minutos', kind = 'bar', figsize = (10,10), color = 'g', ylim=(15, 30))\t"
   ]
  },
  {
   "cell_type": "code",
   "execution_count": 89,
   "metadata": {},
   "outputs": [
    {
     "name": "stdout",
     "output_type": "stream",
     "text": [
      "Gráficos 4! Tempo Médio em Cairo por hora do dia\n"
     ]
    },
    {
     "data": {
      "text/plain": [
       "<matplotlib.axes._subplots.AxesSubplot at 0x7f54067228d0>"
      ]
     },
     "execution_count": 89,
     "metadata": {},
     "output_type": "execute_result"
    },
    {
     "data": {
      "image/png": "[encoded data removed]",
      "text/plain": [
       "<Figure size 720x720 with 1 Axes>"
      ]
     },
     "metadata": {
      "needs_background": "light"
     },
     "output_type": "display_data"
    }
   ],
   "source": [
    "print(\"Gráficos 4! Tempo Médio em Cairo por hora do dia\")\n",
    "df = pd.read_sql_query(\n",
    "    \"select hod as Hora_do_dia, avg(mean_travel_time)/60 as Tempo_Medio_em_minutos \"+\n",
    "    \"from cairo_hourly \"+\n",
    "    \"group by(Hora_do_dia);\", conn)\n",
    "df.plot(x ='Hora_do_dia', y='Tempo_Medio_em_minutos', kind = 'bar', figsize = (10,10), color = '#ffa501', ylim=(20, 45))\t"
   ]
  }
 ],
 "metadata": {
  "kernelspec": {
   "display_name": "Python 3",
   "language": "python",
   "name": "python3"
  },
  "language_info": {
   "codemirror_mode": {
    "name": "ipython",
    "version": 3
   },
   "file_extension": ".py",
   "mimetype": "text/x-python",
   "name": "python",
   "nbconvert_exporter": "python",
   "pygments_lexer": "ipython3",
   "version": "3.7.4"
  }
 },
 "nbformat": 4,
 "nbformat_minor": 2
}
